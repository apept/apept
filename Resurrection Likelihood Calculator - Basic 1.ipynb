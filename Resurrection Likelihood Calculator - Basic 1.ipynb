{
 "cells": [
  {
   "cell_type": "code",
   "execution_count": 1,
   "id": "e067d8cc",
   "metadata": {},
   "outputs": [],
   "source": [
    "#This is a calulator to run various likelihood scenarios based on Richard Swineburnes book on the Resurrection.\"The Resurrection of God incarnate\"\n",
    "\n",
    "# K = the evidence of natural theology for God's existence\n",
    "# E = the detailed historical evidence of\n",
    "    # e1 - life of Jesus as a prophet/revealer\n",
    "    # e2 - supermiracle validation (resurrection)\n",
    "    # e3 - being God incarnate satisfied in no other...than possible Jesus /good life\n",
    "    #Please note, Swinburne dinstinguishes between e and f. E being the possible evidence of such a thing and f being the actual evidence of such a thing. I just stick with E. \n",
    "# H1 = the evidence that God became incarnate in Jesus\n",
    "# H2 = the Hypothesis that Jesus Christ rose from the dead\n",
    "# H = the conjunction of H1 and H2\n",
    "\n",
    "# Our interest will be with the Probality of H given E and K or P(H | E & K) \n",
    "# Admittedly (as Swinburne points out), our values will be rough. That is why I am building this calculator so I can run hundreds of simulations. \n",
    "\n",
    "#Swinburne sets the likelihood of Theism given background knowledge at .5\n",
    "#swinburne sets the likelihood of the claim that God became incarnate in a world of sin and suffering at .5\n"
   ]
  },
  {
   "cell_type": "code",
   "execution_count": 2,
   "id": "80007f81",
   "metadata": {},
   "outputs": [
    {
     "name": "stdout",
     "output_type": "stream",
     "text": [
      "please enter a number between between .01 and 1.0 that you think represents the likelihood that God exists. You thought .5\n",
      "Your probability of theism given background knowledge is\n",
      "0.5\n",
      "Philosopher of Religion, Richard Swineburne also estimates the same as you did. \n",
      " He figures this is a pretty safe bet\n"
     ]
    }
   ],
   "source": [
    "#step 1 - Swinburne sets the likelihood of Theism given background knowledge at .5\n",
    "#Please input your Probability of theism\n",
    "\n",
    "\n",
    "p_tbk = float(input(\"please enter a number between between .01 and 1.0 that you think represents the likelihood that God exists. You thought \")) \n",
    "#p_tbk is theism given background knowledge\n",
    "\n",
    "print(\"Your probability of theism given background knowledge is\")\n",
    "print(p_tbk)\n",
    "\n",
    "if p_tbk > .5:\n",
    "    print(\"Why do you think the likelihood of God's existence is rather high?\")\n",
    "elif(p_tbk == .5):\n",
    "    print(\"Philosopher of Religion, Richard Swineburne also estimates the same as you did. \\n He figures this is a pretty safe bet\")\n",
    "else:    \n",
    "    print(\"Why do you think the likelihood of God's existence is rather low? \\nWhat tips the scales under 50% for you?\")\n",
    "\n",
    "\n",
    "\n",
    "\n"
   ]
  },
  {
   "cell_type": "code",
   "execution_count": 3,
   "id": "89387f22",
   "metadata": {},
   "outputs": [
    {
     "name": "stdout",
     "output_type": "stream",
     "text": [
      "What is the likelihood that God became incarnate in \n",
      " in a world of sin and suffering?.5\n",
      "The probability of the incarnation when we assume theism is\n",
      "0.5\n",
      "Swineburne also estimates this number at .5. He seems to think that it's likelihood is just as probable as it's denial\n"
     ]
    }
   ],
   "source": [
    "#step 2 #swinburne sets the likelihood of the claim that God became incarnate in a world of sin and suffering at .5,\n",
    "#this is when we are assuming theism. So, given theism. \n",
    "p_iss = float(input(\"What is the likelihood that God became incarnate in \\n in a world of sin and suffering?\")) \n",
    "       #p_iss is the probability of incarnation given a world of sin and suffering\n",
    "print(\"The probability of the incarnation when we assume theism is\")\n",
    "print(p_iss)\n",
    "\n",
    "if p_iss > .5:\n",
    "    print(\"Do you think it's rational to estimate that initial probability so high? \\nHave you considered contrary evidence to your initial estimate? \\nWhy do you hold this to be so certain?\")\n",
    "elif(p_iss == .5):\n",
    "    print(\"Swineburne also estimates this number at .5. He seems to think that it's likelihood is just as probable as it's denial\")\n",
    "else:\n",
    "    print(\"Thanks for your estimate. By answering lower than .5, are you implying \\nThat God not revealing himself in/as a human is more likely than him doing so?\")\n"
   ]
  },
  {
   "cell_type": "code",
   "execution_count": 4,
   "id": "b112e795",
   "metadata": {},
   "outputs": [
    {
     "name": "stdout",
     "output_type": "stream",
     "text": [
      "This step of the calculator takes your last two estimates and multiplies them together\n",
      "The probability incarnation and theism is\n",
      "0.25\n",
      "0.75\n",
      "This is the difference when subtracted from 1, or 100%\n"
     ]
    }
   ],
   "source": [
    "#step 3 is to define a probability of the incarnation given theism. .5 * .5\n",
    "print(\"This step of the calculator takes your last two estimates and multiplies them together\") \n",
    "\n",
    "p_ik = p_tbk * p_iss #probability of incarnation given theism \n",
    "print(\"The probability incarnation and theism is\")\n",
    "print(p_ik)\n",
    "\n",
    "subtracted_value = 1.0 - p_ik #this is to be used two steps down. In Swinburnes original, the leftover is .75, but everyone elses will be different. \n",
    "print(subtracted_value)\n",
    "print(\"This is the difference when subtracted from 1, or 100%\")\n"
   ]
  },
  {
   "cell_type": "code",
   "execution_count": 6,
   "id": "2dc94629",
   "metadata": {},
   "outputs": [
    {
     "name": "stdout",
     "output_type": "stream",
     "text": [
      "The probability of the three pieces of evidence given the claim of the incarnation and knowledge of God is\n",
      "0.1\n"
     ]
    }
   ],
   "source": [
    "#step 4 is to take the probability of evidence given the incarnation and evidence for God's existence. \n",
    "#he places this rather low at 1/10\n",
    "#the probability of the evidence 1-3, given the claim of the incarnation and the evidence for God's existence\n",
    "\n",
    "p_eik = .1 #the probability of evidence given incarnation and the background knowledge theism. \n",
    "print(\"The probability of the three pieces of evidence given the claim of the incarnation and knowledge of God is\")\n",
    "print(p_eik)\n",
    "\n",
    "\n"
   ]
  },
  {
   "cell_type": "code",
   "execution_count": 7,
   "id": "40625eb8",
   "metadata": {},
   "outputs": [
    {
     "name": "stdout",
     "output_type": "stream",
     "text": [
      "the probability of both together is\n",
      "0.025\n",
      "swineburnes original numbers bring us to 1/40 or .025\n"
     ]
    }
   ],
   "source": [
    "#now, according to Swineburne's formula's we need to bring some of these together. \n",
    "#we are looking now for the p(e&c|k)= p(e|c&k)* p(c|k)\n",
    "#take the last two cells and multiply them\n",
    "print(\"the probability of both together is\")\n",
    "combined_p_ik_eik = p_ik * p_eik\n",
    "print(combined_p_ik_eik)\n",
    "\n",
    "print(\"swineburnes original numbers bring us to 1/40 or .025\")\n",
    "\n",
    "\n",
    "\n",
    "\n"
   ]
  },
  {
   "cell_type": "code",
   "execution_count": null,
   "id": "b235aa52",
   "metadata": {},
   "outputs": [],
   "source": [
    "#Question what is the p(~c/k) = 3/4, this is what it left from the 1/4 we assigned earlier. "
   ]
  },
  {
   "cell_type": "code",
   "execution_count": 8,
   "id": "5e7c6e4c",
   "metadata": {},
   "outputs": [],
   "source": [
    "#Question: What is the chance that E will still occurr if there is no incarnation?\n",
    "# This could be whether there is no God or he doesn't become incnarate. \n",
    "#Namely, what is the probability of those three pieces of evidence occuring in the same individual?\n",
    "#At the outset, this seems immensley improbable. In the book he says that all three occurring in human history\n",
    "#in various individuals is somewhat likely, especially with those that are non-miraculous. \n",
    "#but all three together in the same individual, fairuly unlikely. \n",
    "#swineburne assigns 1/1000 as the likelihood for the original example. \n",
    "\n",
    "evidence_occuring_no_god = .001\n",
    "\n",
    "#This is a very key number. If you lower the likelihood of these three occuring in the same perons (e1-e3) \n",
    "#Then, all things staying the same, it only increases the likelihood in the final analysis. \n",
    "#but, if you raise the likelihood of this evidence occuring when there is no god, \n",
    "#then you are basically having to affirm a miracle, assuming you think the evidence for Jesus' res is compelling. \n",
    "#again, one can just say that the three e's, never all happened in Jesus. \n",
    "#thus, even if the likelihood for them occuring is minute, in the end they did not happen. \n",
    "#that of course would not be compelling. It goes back to e and if they occurred. \n",
    "#I suppose someone could argue that the likelihood of three such events occurring in the same person is high...\n",
    "#Maybe they think that given all the possiblities of human life / interaction, the dice are bound to role three 6's.\n",
    "#if you have enough roles, then you will get there. Thus, it is all random. \n",
    "#my thought would be, that something being random in a series of events, does not necessarily exclude meaningful...?\n",
    "#still, they would have to deny resurrection...so that one should still keep the likelihood rather low of all three\n",
    "#occurring in the same person. "
   ]
  },
  {
   "cell_type": "code",
   "execution_count": 9,
   "id": "e2444457",
   "metadata": {},
   "outputs": [
    {
     "name": "stdout",
     "output_type": "stream",
     "text": [
      "0.025750000000000002\n",
      "swineburne's original numbers bring us to 103/4000 or .02575\n"
     ]
    }
   ],
   "source": [
    "#Question: What is the chance that E will still occurr if there is no incarnation?\n",
    "# This could be whether there is no God or he doesn't become incnarate. \n",
    "#Namely, what is the probability of those three pieces of evidence occuring in the same individual?\n",
    "#At the outset, this seems immensley improbable.  \n",
    "#swineburne assigns 1/1000 as the likelihood. \n",
    "\n",
    "p_e_k = combined_p_ik_eik + (subtracted_value * evidence_occuring_no_god)  #and the 1/1000 from above\n",
    "print(p_e_k)\n",
    "\n",
    "print(\"swineburne's original numbers bring us to 103/4000 or .02575\")"
   ]
  },
  {
   "cell_type": "code",
   "execution_count": 10,
   "id": "fc9f1493",
   "metadata": {},
   "outputs": [
    {
     "name": "stdout",
     "output_type": "stream",
     "text": [
      "0.970873786407767\n",
      "That is the likelihood everyone!\n"
     ]
    }
   ],
   "source": [
    "#let's finish the equation\n",
    "#p(c|e&k)= p(e|c&K) * p(c|k) / p(e|k)\n",
    "\n",
    "total_p = p_eik * p_ik / p_e_k\n",
    "print(total_p)\n",
    "print(\"That is the likelihood everyone!\")"
   ]
  },
  {
   "cell_type": "code",
   "execution_count": 11,
   "id": "ed3fb31f",
   "metadata": {},
   "outputs": [],
   "source": [
    "#All of the above represents the proability on the strength of the evidence, that we have about Jesus of Nazareth...\n",
    "#that God has or will become incarnate. \n",
    "#swineburne's contention is that to avoid, one will have to give very different values to the numbers above. \n",
    "#Examples 1: \"The problem of evil shows there is no God, therefore the first two are at 0%\"\n",
    "#example 2: \"Even if there is a 50% chance that there is a God, he is clearly to be understand more as deism asserts...\"\n",
    "   #and therefore, the second percentage should be 0%. \n",
    "#in each of these scenarios you end up reducing the evidence down to accident/randomness. "
   ]
  },
  {
   "cell_type": "code",
   "execution_count": null,
   "id": "464d1a62",
   "metadata": {},
   "outputs": [],
   "source": [
    "#Another point to remember, Swineburne spends an entire book on the three pieces of evidence.\n",
    "#if one reads Swineburne and remains unconvinced by the evidence being actual evidence, then...\n",
    "#these three evidences are just hypothetical, namely, that if they would occur it would give us such percentages. \n",
    "#a lot is bound up in e. \n",
    "#swineburne does work hard to weed out unneccessary assumptions and works with good scholars on the subject. "
   ]
  }
 ],
 "metadata": {
  "kernelspec": {
   "display_name": "Python 3 (ipykernel)",
   "language": "python",
   "name": "python3"
  },
  "language_info": {
   "codemirror_mode": {
    "name": "ipython",
    "version": 3
   },
   "file_extension": ".py",
   "mimetype": "text/x-python",
   "name": "python",
   "nbconvert_exporter": "python",
   "pygments_lexer": "ipython3",
   "version": "3.9.7"
  }
 },
 "nbformat": 4,
 "nbformat_minor": 5
}
